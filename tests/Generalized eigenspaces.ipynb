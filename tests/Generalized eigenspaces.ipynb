{
 "cells": [
  {
   "cell_type": "code",
   "execution_count": 1,
   "metadata": {},
   "outputs": [
    {
     "data": {
      "text/plain": [
       "990"
      ]
     },
     "execution_count": 1,
     "metadata": {},
     "output_type": "execute_result"
    }
   ],
   "source": [
    "prec = 1000\n",
    "C = ComplexBallField(prec)\n",
    "r2, r3 = C(sqrt(2)), C(sqrt(3))\n",
    "mat = jordan_block(r2, 2).block_sum(matrix([r3]))\n",
    "ran = MatrixSpace(CC, 3).random_element().change_ring(C)\n",
    "mat = ~ran * mat * ran\n",
    "min(c.accuracy() for c in mat.list())"
   ]
  },
  {
   "cell_type": "code",
   "execution_count": 2,
   "metadata": {},
   "outputs": [
    {
     "name": "stderr",
     "output_type": "stream",
     "text": [
      "<ipython-input-2-d0351921608d>:2: UserWarning: roots may have been lost\n",
      "  eigvals = chi.roots(multiplicities=False, proof=False)\n"
     ]
    },
    {
     "data": {
      "text/plain": [
       "201"
      ]
     },
     "execution_count": 2,
     "metadata": {},
     "output_type": "execute_result"
    }
   ],
   "source": [
    "chi = mat.charpoly()\n",
    "eigvals = chi.roots(multiplicities=False, proof=False)\n",
    "min(c.accuracy() for c in eigvals)"
   ]
  },
  {
   "cell_type": "code",
   "execution_count": 3,
   "metadata": {},
   "outputs": [
    {
     "data": {
      "text/plain": [
       "972"
      ]
     },
     "execution_count": 3,
     "metadata": {},
     "output_type": "execute_result"
    }
   ],
   "source": [
    "from diffop_factorization.polynomials import GCD\n",
    "d = GCD(chi, chi.derivative())\n",
    "free_square = chi.quo_rem(d)[0]\n",
    "eigvals = free_square.roots(multiplicities=False)\n",
    "min(c.accuracy() for c in eigvals)"
   ]
  },
  {
   "cell_type": "code",
   "execution_count": 4,
   "metadata": {},
   "outputs": [
    {
     "data": {
      "text/plain": [
       "[972.336693215541041226554766737070942816070767184506520795192500599546197033679570586321042104295337229261109483807181150863374254128885779124373440820071235028083720592638643226314379605026321639074044360401978808336385912062393267462108564859790813475716041798423162740402819280318483350271452364301 +/- 7.39e-298]"
      ]
     },
     "execution_count": 4,
     "metadata": {},
     "output_type": "execute_result"
    }
   ],
   "source": [
    "-log((eigvals[0]-r2).above_abs(), 2)"
   ]
  },
  {
   "cell_type": "code",
   "execution_count": null,
   "metadata": {},
   "outputs": [],
   "source": []
  }
 ],
 "metadata": {
  "kernelspec": {
   "display_name": "SageMath 9.3.beta9",
   "language": "sage",
   "name": "sagemath"
  },
  "language_info": {
   "codemirror_mode": {
    "name": "ipython",
    "version": 3
   },
   "file_extension": ".py",
   "mimetype": "text/x-python",
   "name": "python",
   "nbconvert_exporter": "python",
   "pygments_lexer": "ipython3",
   "version": "3.8.5"
  }
 },
 "nbformat": 4,
 "nbformat_minor": 4
}
