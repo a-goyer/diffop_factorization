{
 "cells": [
  {
   "cell_type": "code",
   "execution_count": 17,
   "metadata": {},
   "outputs": [],
   "source": [
    "from diffop_factorization.splitting import Splitting"
   ]
  },
  {
   "cell_type": "markdown",
   "metadata": {},
   "source": [
    "## Case 0.a"
   ]
  },
  {
   "cell_type": "code",
   "execution_count": 18,
   "metadata": {},
   "outputs": [
    {
     "name": "stdout",
     "output_type": "stream",
     "text": [
      "[  [1.5787023 +/- 3.40e-8] + [0.5326245 +/- 5.51e-8]*I  [-1.2947242 +/- 3.41e-8] + [0.0802939 +/- 3.79e-8]*I]\n",
      "[  [0.4298270 +/- 2.18e-8] + [0.9141709 +/- 6.65e-8]*I [-0.5787023 +/- 2.39e-8] + [-0.5326245 +/- 4.53e-8]*I]\n",
      "[2]\n",
      "[1, 1]\n"
     ]
    }
   ],
   "source": [
    "C = ComplexBallField(30)\n",
    "mat = matrix(C,[[0,0],[0,1]])\n",
    "ran = MatrixSpace(CC, 2).random_element().change_ring(C)\n",
    "mat = ~ran * mat * ran\n",
    "print(mat)\n",
    "split = Splitting([mat])\n",
    "print(split.partition)\n",
    "split.refine(mat)\n",
    "print(split.partition)"
   ]
  },
  {
   "cell_type": "code",
   "execution_count": 19,
   "metadata": {},
   "outputs": [
    {
     "data": {
      "text/plain": [
       "[     [+/- 1.37e-4] + [+/- 1.37e-4]*I      [+/- 1.28e-4] + [+/- 1.28e-4]*I]\n",
       "[     [+/- 1.11e-4] + [+/- 1.11e-4]*I [1.00 +/- 1.08e-4] + [+/- 1.08e-4]*I]"
      ]
     },
     "execution_count": 19,
     "metadata": {},
     "output_type": "execute_result"
    }
   ],
   "source": [
    "split.matrices[0]"
   ]
  },
  {
   "cell_type": "code",
   "execution_count": 20,
   "metadata": {},
   "outputs": [
    {
     "data": {
      "text/plain": [
       "[  [1.58 +/- 2.16e-3] + [0.53 +/- 3.48e-3]*I  [-1.29 +/- 5.60e-3] + [0.08 +/- 1.17e-3]*I]\n",
       "[  [0.43 +/- 9.74e-4] + [0.91 +/- 4.98e-3]*I [-0.58 +/- 2.12e-3] + [-0.53 +/- 3.44e-3]*I]"
      ]
     },
     "execution_count": 20,
     "metadata": {},
     "output_type": "execute_result"
    }
   ],
   "source": [
    "split.basis * split.matrices[0] * ~split.basis"
   ]
  },
  {
   "cell_type": "markdown",
   "metadata": {},
   "source": [
    "## Case 0.b"
   ]
  },
  {
   "cell_type": "code",
   "execution_count": 5,
   "metadata": {},
   "outputs": [
    {
     "data": {
      "text/plain": [
       "[1, 2]"
      ]
     },
     "execution_count": 5,
     "metadata": {},
     "output_type": "execute_result"
    }
   ],
   "source": [
    "C = ComplexBallField()\n",
    "mat1 = matrix(C,[[0,0,0],[0,1,0],[0,0,1]])\n",
    "mat2 = matrix(C,[[0,0,0],[0,0,0],[0,0,1]])\n",
    "ran = MatrixSpace(CC, 3).random_element().change_ring(C)\n",
    "mat1, mat2 = ~ran * mat1 * ran, ~ran * mat2 * ran\n",
    "\n",
    "split = Splitting([mat1, mat2])\n",
    "split.refine(mat1)\n",
    "split.partition"
   ]
  },
  {
   "cell_type": "code",
   "execution_count": 6,
   "metadata": {},
   "outputs": [
    {
     "data": {
      "text/plain": [
       "[2, 1]"
      ]
     },
     "execution_count": 6,
     "metadata": {},
     "output_type": "execute_result"
    }
   ],
   "source": [
    "split = Splitting([mat1, mat2])\n",
    "split.refine(mat2)\n",
    "split.partition"
   ]
  },
  {
   "cell_type": "code",
   "execution_count": 7,
   "metadata": {},
   "outputs": [
    {
     "data": {
      "text/plain": [
       "[1, 1, 1]"
      ]
     },
     "execution_count": 7,
     "metadata": {},
     "output_type": "execute_result"
    }
   ],
   "source": [
    "split = Splitting([mat1, mat2])\n",
    "split.refine(mat1)\n",
    "split.refine(mat2)\n",
    "split.partition"
   ]
  },
  {
   "cell_type": "code",
   "execution_count": 8,
   "metadata": {},
   "outputs": [
    {
     "data": {
      "text/plain": [
       "[1, 1, 1]"
      ]
     },
     "execution_count": 8,
     "metadata": {},
     "output_type": "execute_result"
    }
   ],
   "source": [
    "split = Splitting([mat1, mat2])\n",
    "split.refine(mat1 + mat2)\n",
    "split.partition"
   ]
  },
  {
   "cell_type": "markdown",
   "metadata": {},
   "source": [
    "## Case 1"
   ]
  },
  {
   "cell_type": "code",
   "execution_count": 9,
   "metadata": {},
   "outputs": [
    {
     "data": {
      "text/plain": [
       "[2]"
      ]
     },
     "execution_count": 9,
     "metadata": {},
     "output_type": "execute_result"
    }
   ],
   "source": [
    "C = ComplexBallField()\n",
    "mat1, mat2 = matrix(C,[[0,1],[0,0]]), matrix(C,[[0,0],[1,0]])\n",
    "ran = MatrixSpace(CC, 2).random_element().change_ring(C)\n",
    "mat1, mat2 = ~ran * mat1 * ran, ~ran * mat2 * ran\n",
    "\n",
    "split = Splitting([mat1, mat2])\n",
    "split.refine(mat1)\n",
    "split.refine(mat2)\n",
    "split.partition"
   ]
  },
  {
   "cell_type": "code",
   "execution_count": 10,
   "metadata": {},
   "outputs": [
    {
     "data": {
      "text/plain": [
       "[1, 1]"
      ]
     },
     "execution_count": 10,
     "metadata": {},
     "output_type": "execute_result"
    }
   ],
   "source": [
    "split.refine(mat1 + mat2)\n",
    "split.partition"
   ]
  },
  {
   "cell_type": "markdown",
   "metadata": {},
   "source": [
    "## Case 2.a"
   ]
  },
  {
   "cell_type": "code",
   "execution_count": null,
   "metadata": {},
   "outputs": [],
   "source": []
  },
  {
   "cell_type": "code",
   "execution_count": null,
   "metadata": {},
   "outputs": [],
   "source": []
  },
  {
   "cell_type": "code",
   "execution_count": null,
   "metadata": {},
   "outputs": [],
   "source": []
  },
  {
   "cell_type": "code",
   "execution_count": null,
   "metadata": {},
   "outputs": [],
   "source": []
  }
 ],
 "metadata": {
  "kernelspec": {
   "display_name": "SageMath 9.3.beta9",
   "language": "sage",
   "name": "sagemath"
  },
  "language_info": {
   "codemirror_mode": {
    "name": "ipython",
    "version": 3
   },
   "file_extension": ".py",
   "mimetype": "text/x-python",
   "name": "python",
   "nbconvert_exporter": "python",
   "pygments_lexer": "ipython3",
   "version": "3.8.5"
  }
 },
 "nbformat": 4,
 "nbformat_minor": 4
}
