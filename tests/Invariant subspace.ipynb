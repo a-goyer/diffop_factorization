{
 "cells": [
  {
   "cell_type": "code",
   "execution_count": 1,
   "metadata": {},
   "outputs": [],
   "source": [
    "# if you cloned diffop_factorization module in your Documents folder, running the following line allows your Sage\n",
    "# to know where look for this module\n",
    "import sys; sys.path.append('/~/Documents')"
   ]
  },
  {
   "cell_type": "code",
   "execution_count": 2,
   "metadata": {},
   "outputs": [],
   "source": [
    "from diffop_factorization import invariant_subspace"
   ]
  },
  {
   "cell_type": "markdown",
   "metadata": {},
   "source": [
    "## Generic examples"
   ]
  },
  {
   "cell_type": "code",
   "execution_count": 3,
   "metadata": {},
   "outputs": [
    {
     "data": {
      "text/plain": [
       "([([1.000000 +/- 3.10e-7] + [+/- 3.10e-7]*I, [-0.204006 +/- 6.26e-7] + [-0.459831 +/- 2.96e-7]*I, [-0.012579 +/- 4.61e-7] + [-0.050031 +/- 3.76e-7]*I)],\n",
       " None)"
      ]
     },
     "execution_count": 3,
     "metadata": {},
     "output_type": "execute_result"
    }
   ],
   "source": [
    "mat1 = MatrixSpace(CC, 3).random_element().change_ring(CBF)\n",
    "mat2 = MatrixSpace(CC, 3).random_element().change_ring(CBF)\n",
    "\n",
    "(invariant_subspace([mat1]), invariant_subspace([mat1, mat2]))"
   ]
  },
  {
   "cell_type": "markdown",
   "metadata": {},
   "source": [
    "## Two matrices with a commun eigenvector"
   ]
  },
  {
   "cell_type": "code",
   "execution_count": 4,
   "metadata": {},
   "outputs": [
    {
     "data": {
      "text/plain": [
       "[([1.000000000000000000 +/- 3.35e-19] + [+/- 3.35e-19]*I, [0.661623722295726314 +/- 5.40e-19] + [0.186930227269756273 +/- 9.15e-19]*I, [-0.492541207235549876 +/- 7.62e-19] + [-0.406966757051311410 +/- 4.73e-19]*I)]"
      ]
     },
     "execution_count": 4,
     "metadata": {},
     "output_type": "execute_result"
    }
   ],
   "source": [
    "C = ComplexBallField(100)\n",
    "mat1 = MatrixSpace(CC, 3).random_element().change_ring(C)\n",
    "mat2 = MatrixSpace(CC, 3).random_element().change_ring(C)\n",
    "mat1[1:3,0] , mat2[1:3,0] = MatrixSpace(C, 2, 1).zero(), MatrixSpace(C, 2, 1).zero()\n",
    "ran = MatrixSpace(CC, 3).random_element().change_ring(C)\n",
    "mat1, mat2 = ~ran * mat1 * ran, ~ran * mat2 * ran\n",
    "\n",
    "V = invariant_subspace([mat1, mat2]); V"
   ]
  },
  {
   "cell_type": "code",
   "execution_count": 5,
   "metadata": {},
   "outputs": [
    {
     "data": {
      "text/plain": [
       "(([1.000000000000000000 +/- 6.69e-19] + [+/- 6.69e-19]*I, [0.661623722295726314 +/- 8.24e-19] + [0.18693022726975627 +/- 3.26e-18]*I, [-0.49254120723554988 +/- 5.07e-18] + [-0.406966757051311410 +/- 7.74e-19]*I),\n",
       " ([1.000000000000000 +/- 9.40e-18] + [+/- 9.40e-18]*I, [0.6616237222957263 +/- 2.15e-17] + [0.1869302272697563 +/- 3.51e-17]*I, [-0.4925412072355499 +/- 3.27e-17] + [-0.40696675705131141 +/- 8.42e-18]*I),\n",
       " ([1.0000000000000000 +/- 2.25e-18] + [+/- 2.25e-18]*I, [0.66162372229572631 +/- 5.92e-18] + [0.18693022726975627 +/- 4.55e-18]*I, [-0.49254120723554988 +/- 6.52e-18] + [-0.40696675705131141 +/- 2.23e-18]*I))"
      ]
     },
     "execution_count": 5,
     "metadata": {},
     "output_type": "execute_result"
    }
   ],
   "source": [
    "v = V[0]\n",
    "v1, v2 = mat1*v, mat2*v\n",
    "v/v[0], v1/v1[0], v2/v2[0]"
   ]
  },
  {
   "cell_type": "markdown",
   "metadata": {},
   "source": [
    "## Matrices with a prescribed dimension of invariant subspace"
   ]
  },
  {
   "cell_type": "code",
   "execution_count": 6,
   "metadata": {},
   "outputs": [
    {
     "name": "stdout",
     "output_type": "stream",
     "text": [
      "CPU times: user 9.7 s, sys: 4.08 ms, total: 9.7 s\n",
      "Wall time: 9.7 s\n"
     ]
    },
    {
     "data": {
      "text/plain": [
       "True"
      ]
     },
     "execution_count": 6,
     "metadata": {},
     "output_type": "execute_result"
    }
   ],
   "source": [
    "def test (td, pd, prec, N) :\n",
    "    \n",
    "    \"\"\" td = total dimension,\n",
    "        pd = prescribed dimension,\n",
    "        prec = precision,\n",
    "        N = number of matrices \"\"\"\n",
    "\n",
    "    C = ComplexBallField(prec)\n",
    "    \n",
    "    Mats = []\n",
    "    for cpt in range(N):\n",
    "        mat = MatrixSpace(CC, td).random_element().change_ring(C)\n",
    "        mat[pd:,:pd] = MatrixSpace(C, td-pd, pd).zero()\n",
    "        Mats.append(mat)\n",
    "    \n",
    "    ran = MatrixSpace(CC, td).random_element().change_ring(C)\n",
    "    for j, mat in enumerate(Mats):\n",
    "        Mats[j] = ~ran * mat * ran\n",
    "    \n",
    "    V = invariant_subspace(Mats)\n",
    "    if V is None:\n",
    "        print('cc')\n",
    "    return pd == len(V)\n",
    "\n",
    "dim_max = 20\n",
    "%time all(test(dim, dim//3, 1000, 5) for dim in [4,6..dim_max]) # 10sec for dim_max = 20"
   ]
  },
  {
   "cell_type": "markdown",
   "metadata": {},
   "source": [
    "## Tricky case of MeatAxe algorithm"
   ]
  },
  {
   "cell_type": "raw",
   "metadata": {},
   "source": [
    "                      [ A | * | * ]\n",
    "                       --- --- ---\n",
    "triangular by blocs : [ 0 | A | * ]   with generic A and at least one nonzero * \n",
    "                       --- --- ---\n",
    "                      [ 0 | 0 | A ]"
   ]
  },
  {
   "cell_type": "code",
   "execution_count": 7,
   "metadata": {},
   "outputs": [
    {
     "data": {
      "text/plain": [
       "3"
      ]
     },
     "execution_count": 7,
     "metadata": {},
     "output_type": "execute_result"
    }
   ],
   "source": [
    "bN = 2         # number of blocs\n",
    "bdim = 3       # dimension of blocs\n",
    "N = 2          # number of matrices\n",
    "dim = bdim*bN  # total dimension\n",
    "prec = 200\n",
    "C = ComplexBallField(prec)\n",
    "\n",
    "Mats = []\n",
    "for cpt in range(N):\n",
    "    A = MatrixSpace(CC, bdim).random_element().change_ring(C)\n",
    "    mat = block_matrix(C, [[A.parent().zero()]*i+[A]+[A.parent().random_element()\\\n",
    "                                                      for j in range(bN-i-1)] for i in range(bN)])\n",
    "    Mats.append(mat)\n",
    "\n",
    "ran = MatrixSpace(CC, dim).random_element().change_ring(C)\n",
    "Mats = [~ran * mat * ran for mat in Mats]\n",
    "\n",
    "V = invariant_subspace(Mats)\n",
    "len(V)"
   ]
  },
  {
   "cell_type": "markdown",
   "metadata": {},
   "source": [
    "## When a linear combination is not enough"
   ]
  },
  {
   "cell_type": "code",
   "execution_count": 8,
   "metadata": {},
   "outputs": [
    {
     "name": "stdout",
     "output_type": "stream",
     "text": [
      "The partition is currently:  [3]\n",
      "Lines checked\n",
      "Need to check nolines.\n",
      "Need to compute a basis of the algebra\n"
     ]
    },
    {
     "data": {
      "text/plain": [
       "True"
      ]
     },
     "execution_count": 8,
     "metadata": {},
     "output_type": "execute_result"
    }
   ],
   "source": [
    "prec = 100\n",
    "C = ComplexBallField(prec)\n",
    "\n",
    "mat1 = matrix(C, [[0,1,0],[0,0,1],[0,0,0]])\n",
    "mat2 = matrix(C, [[0,0,0],[1,0,0],[0,-1,0]])\n",
    "ran = MatrixSpace(CC, 3).random_element().change_ring(C)\n",
    "mat1, mat2 = ~ran * mat1 * ran, ~ran * mat2 * ran\n",
    "\n",
    "invariant_subspace([mat1, mat2], verbose=True) is None"
   ]
  },
  {
   "cell_type": "code",
   "execution_count": null,
   "metadata": {},
   "outputs": [],
   "source": []
  },
  {
   "cell_type": "code",
   "execution_count": null,
   "metadata": {},
   "outputs": [],
   "source": []
  }
 ],
 "metadata": {
  "kernelspec": {
   "display_name": "SageMath 9.3.rc0",
   "language": "sage",
   "name": "sagemath"
  },
  "language_info": {
   "codemirror_mode": {
    "name": "ipython",
    "version": 3
   },
   "file_extension": ".py",
   "mimetype": "text/x-python",
   "name": "python",
   "nbconvert_exporter": "python",
   "pygments_lexer": "ipython3",
   "version": "3.8.5"
  }
 },
 "nbformat": 4,
 "nbformat_minor": 4
}
