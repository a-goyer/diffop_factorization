{
 "cells": [
  {
   "cell_type": "code",
   "execution_count": 1,
   "metadata": {},
   "outputs": [],
   "source": [
    "from diffop_factorization import invariant_subspace"
   ]
  },
  {
   "cell_type": "markdown",
   "metadata": {},
   "source": [
    "## Generic examples"
   ]
  },
  {
   "cell_type": "code",
   "execution_count": 2,
   "metadata": {},
   "outputs": [
    {
     "data": {
      "text/plain": [
       "([([-0.5728211 +/- 2.61e-8] + [-0.0882673 +/- 4.43e-8]*I, [1.0000000 +/- 2.33e-8] + [+/- 2.33e-8]*I, [0.7201774 +/- 4.23e-8] + [0.1819908 +/- 3.13e-8]*I)],\n",
       " None)"
      ]
     },
     "execution_count": 2,
     "metadata": {},
     "output_type": "execute_result"
    }
   ],
   "source": [
    "mat1 = MatrixSpace(CC, 3).random_element().change_ring(CBF)\n",
    "mat2 = MatrixSpace(CC, 3).random_element().change_ring(CBF)\n",
    "\n",
    "(invariant_subspace([mat1]), invariant_subspace([mat1, mat2]))"
   ]
  },
  {
   "cell_type": "markdown",
   "metadata": {},
   "source": [
    "## Two matrices with a commun eigenvector"
   ]
  },
  {
   "cell_type": "code",
   "execution_count": 3,
   "metadata": {},
   "outputs": [
    {
     "data": {
      "text/plain": [
       "[([-0.05712146130 +/- 1.52e-12] + [0.83993286188 +/- 1.24e-12]*I, [1.00000000000 +/- 1.13e-12] + [+/- 1.13e-12]*I, [-0.365473631622 +/- 6.95e-13] + [0.241557891389 +/- 7.50e-13]*I)]"
      ]
     },
     "execution_count": 3,
     "metadata": {},
     "output_type": "execute_result"
    }
   ],
   "source": [
    "C = ComplexBallField(100)\n",
    "mat1 = MatrixSpace(CC, 3).random_element().change_ring(C)\n",
    "mat2 = MatrixSpace(CC, 3).random_element().change_ring(C)\n",
    "mat1[1:3,0] , mat2[1:3,0] = MatrixSpace(C, 2, 1).zero(), MatrixSpace(C, 2, 1).zero()\n",
    "ran = MatrixSpace(CC, 3).random_element().change_ring(C)\n",
    "mat1, mat2 = ~ran * mat1 * ran, ~ran * mat2 * ran\n",
    "\n",
    "V = invariant_subspace([mat1, mat2]); V"
   ]
  },
  {
   "cell_type": "code",
   "execution_count": 4,
   "metadata": {},
   "outputs": [
    {
     "data": {
      "text/plain": [
       "(([1.0000000000 +/- 3.27e-12] + [+/- 3.27e-12]*I, [-0.08059464600 +/- 5.11e-12] + [-1.18509033427 +/- 5.80e-12]*I, [0.31572314021 +/- 5.03e-12] + [0.41365099552 +/- 2.38e-12]*I),\n",
       " ([1.00000000 +/- 1.78e-10] + [+/- 1.78e-10]*I, [-0.080594646 +/- 1.85e-10] + [-1.185090334 +/- 4.50e-10]*I, [0.315723140 +/- 3.22e-10] + [0.413650996 +/- 5.88e-10]*I),\n",
       " ([1.000000000 +/- 1.99e-11] + [+/- 1.99e-11]*I, [-0.0805946460 +/- 2.52e-11] + [-1.1850903343 +/- 5.59e-11]*I, [0.3157231402 +/- 2.30e-11] + [0.4136509955 +/- 3.03e-11]*I))"
      ]
     },
     "execution_count": 4,
     "metadata": {},
     "output_type": "execute_result"
    }
   ],
   "source": [
    "v = V[0]\n",
    "v1, v2 = mat1*v, mat2*v\n",
    "v/v[0], v1/v1[0], v2/v2[0]"
   ]
  },
  {
   "cell_type": "markdown",
   "metadata": {},
   "source": [
    "## Matrices with a prescribed dimension of invariant subspace"
   ]
  },
  {
   "cell_type": "code",
   "execution_count": 5,
   "metadata": {},
   "outputs": [
    {
     "name": "stdout",
     "output_type": "stream",
     "text": [
      "CPU times: user 10.2 s, sys: 0 ns, total: 10.2 s\n",
      "Wall time: 10.2 s\n"
     ]
    },
    {
     "data": {
      "text/plain": [
       "True"
      ]
     },
     "execution_count": 5,
     "metadata": {},
     "output_type": "execute_result"
    }
   ],
   "source": [
    "def test (td, pd, prec, N) :\n",
    "    \n",
    "    \"\"\" td = total dimension,\n",
    "        pd = prescribed dimension,\n",
    "        prec = precision,\n",
    "        N = number of matrices \"\"\"\n",
    "\n",
    "    C = ComplexBallField(prec)\n",
    "    \n",
    "    Mats = []\n",
    "    for cpt in range(N):\n",
    "        mat = MatrixSpace(CC, td).random_element().change_ring(C)\n",
    "        mat[pd:,:pd] = MatrixSpace(C, td-pd, pd).zero()\n",
    "        Mats.append(mat)\n",
    "    \n",
    "    ran = MatrixSpace(CC, td).random_element().change_ring(C)\n",
    "    for j, mat in enumerate(Mats):\n",
    "        Mats[j] = ~ran * mat * ran\n",
    "    \n",
    "    V = invariant_subspace(Mats)\n",
    "    if V is None:\n",
    "        print('cc')\n",
    "    return pd == len(V)\n",
    "\n",
    "dim_max = 20\n",
    "%time all(test(dim, dim//3, 1000, 5) for dim in [4,6..dim_max]) # 10sec for dim_max = 20"
   ]
  },
  {
   "cell_type": "markdown",
   "metadata": {},
   "source": [
    "## Tricky case of MeatAxe algorithm"
   ]
  },
  {
   "cell_type": "raw",
   "metadata": {},
   "source": [
    "                      [ A | * | * ]\n",
    "                       --- --- ---\n",
    "triangular by blocs : [ 0 | A | * ]   with generic A and at least one nonzero * \n",
    "                       --- --- ---\n",
    "                      [ 0 | 0 | A ]"
   ]
  },
  {
   "cell_type": "code",
   "execution_count": 6,
   "metadata": {},
   "outputs": [
    {
     "data": {
      "text/plain": [
       "3"
      ]
     },
     "execution_count": 6,
     "metadata": {},
     "output_type": "execute_result"
    }
   ],
   "source": [
    "bN = 2         # number of blocs\n",
    "bdim = 3       # dimension of blocs\n",
    "N = 2          # number of matrices\n",
    "dim = bdim*bN  # total dimension\n",
    "prec = 200\n",
    "C = ComplexBallField(prec)\n",
    "\n",
    "Mats = []\n",
    "for cpt in range(N):\n",
    "    A = MatrixSpace(CC, bdim).random_element().change_ring(C)\n",
    "    mat = block_matrix(C, [[A.parent().zero()]*i+[A]+[A.parent().random_element()\\\n",
    "                                                      for j in range(bN-i-1)] for i in range(bN)])\n",
    "    Mats.append(mat)\n",
    "\n",
    "ran = MatrixSpace(CC, dim).random_element().change_ring(C)\n",
    "Mats = [~ran * mat * ran for mat in Mats]\n",
    "\n",
    "V = invariant_subspace(Mats)\n",
    "len(V)"
   ]
  },
  {
   "cell_type": "markdown",
   "metadata": {},
   "source": [
    "## When a linear combination is not enough"
   ]
  },
  {
   "cell_type": "code",
   "execution_count": 7,
   "metadata": {},
   "outputs": [
    {
     "name": "stdout",
     "output_type": "stream",
     "text": [
      "The partition is currently:  [3]\n",
      "Lines checked\n",
      "Need to check nolines.\n",
      "Need to compute a basis of the algebra\n"
     ]
    },
    {
     "data": {
      "text/plain": [
       "True"
      ]
     },
     "execution_count": 7,
     "metadata": {},
     "output_type": "execute_result"
    }
   ],
   "source": [
    "prec = 100\n",
    "C = ComplexBallField(prec)\n",
    "\n",
    "mat1 = matrix(C, [[0,1,0],[0,0,1],[0,0,0]])\n",
    "mat2 = matrix(C, [[0,0,0],[1,0,0],[0,-1,0]])\n",
    "ran = MatrixSpace(CC, 3).random_element().change_ring(C)\n",
    "mat1, mat2 = ~ran * mat1 * ran, ~ran * mat2 * ran\n",
    "\n",
    "invariant_subspace([mat1, mat2], verbose=True) is None"
   ]
  },
  {
   "cell_type": "code",
   "execution_count": null,
   "metadata": {},
   "outputs": [],
   "source": []
  },
  {
   "cell_type": "code",
   "execution_count": null,
   "metadata": {},
   "outputs": [],
   "source": []
  }
 ],
 "metadata": {
  "kernelspec": {
   "display_name": "SageMath 9.3.beta9",
   "language": "sage",
   "name": "sagemath"
  },
  "language_info": {
   "codemirror_mode": {
    "name": "ipython",
    "version": 3
   },
   "file_extension": ".py",
   "mimetype": "text/x-python",
   "name": "python",
   "nbconvert_exporter": "python",
   "pygments_lexer": "ipython3",
   "version": "3.8.5"
  }
 },
 "nbformat": 4,
 "nbformat_minor": 4
}
