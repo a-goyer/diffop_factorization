{
 "cells": [
  {
   "cell_type": "markdown",
   "metadata": {},
   "source": [
    "## GCD"
   ]
  },
  {
   "cell_type": "code",
   "execution_count": 1,
   "metadata": {},
   "outputs": [
    {
     "data": {
      "text/plain": [
       "([1.0000000000 +/- 1.34e-12])*x + [-2.00000000000 +/- 1.94e-12]"
      ]
     },
     "execution_count": 1,
     "metadata": {},
     "output_type": "execute_result"
    }
   ],
   "source": [
    "from diffop_factorization.polynomials import GCD                             \n",
    "P.<x> = CBF[] \n",
    "p, q = (x-1)*(x-2)**2, (x-2)*(x-3)**2 \n",
    "a = CBF(pi) \n",
    "p, q = p(x*a), q(x*a)                                                        \n",
    "d = GCD(p, q); d(x/a).monic()                                       "
   ]
  },
  {
   "cell_type": "markdown",
   "metadata": {},
   "source": [
    "## XGCD"
   ]
  },
  {
   "cell_type": "code",
   "execution_count": 2,
   "metadata": {},
   "outputs": [],
   "source": [
    "from diffop_factorization.polynomials import XGCD, _clean"
   ]
  },
  {
   "cell_type": "code",
   "execution_count": 3,
   "metadata": {},
   "outputs": [
    {
     "data": {
      "text/plain": [
       "(([31.0062766802998 +/- 2.49e-14])*x^3 + ([-49.3480220054468 +/- 4.37e-14])*x^2 + ([25.13274122871834 +/- 6.71e-15])*x - 4.000000000000000,\n",
       " ([31.0062766802998 +/- 2.49e-14])*x^3 + ([-78.9568352087148 +/- 7.52e-14])*x^2 + ([65.9734457253856 +/- 6.37e-14])*x - 18.00000000000000)"
      ]
     },
     "execution_count": 3,
     "metadata": {},
     "output_type": "execute_result"
    }
   ],
   "source": [
    "P.<x> = CBF[]\n",
    "p, q = (x-1)*(x-2)**2, (x-2)*(x-3)**2\n",
    "a = CBF(pi)\n",
    "p, q = p(x*a), q(x*a)\n",
    "p, q"
   ]
  },
  {
   "cell_type": "code",
   "execution_count": 4,
   "metadata": {},
   "outputs": [
    {
     "data": {
      "text/plain": [
       "(([1.0000000000 +/- 2.66e-12])*x + [-0.63661977237 +/- 3.89e-12],\n",
       " [0.636619772367581 +/- 4.28e-16])"
      ]
     },
     "execution_count": 4,
     "metadata": {},
     "output_type": "execute_result"
    }
   ],
   "source": [
    "d, u, v = XGCD(p, q); d.monic(), 2/a"
   ]
  },
  {
   "cell_type": "code",
   "execution_count": 7,
   "metadata": {},
   "outputs": [
    {
     "data": {
      "text/plain": [
       "([1.000000000 +/- 6.78e-11])*x + [-0.6366197724 +/- 5.85e-11]"
      ]
     },
     "execution_count": 7,
     "metadata": {},
     "output_type": "execute_result"
    }
   ],
   "source": [
    "_clean(u*p + v*q).monic()"
   ]
  },
  {
   "cell_type": "code",
   "execution_count": null,
   "metadata": {},
   "outputs": [],
   "source": []
  },
  {
   "cell_type": "code",
   "execution_count": null,
   "metadata": {},
   "outputs": [],
   "source": []
  },
  {
   "cell_type": "markdown",
   "metadata": {},
   "source": [
    "## With ComplexOptimisticField"
   ]
  },
  {
   "cell_type": "code",
   "execution_count": 34,
   "metadata": {},
   "outputs": [],
   "source": [
    "from diffop_factorization.complex_optimistic_field import ComplexOptimisticField\n",
    "prec = 50\n",
    "C = ComplexOptimisticField(prec, eps = 2^(-prec//2))"
   ]
  },
  {
   "cell_type": "code",
   "execution_count": 35,
   "metadata": {},
   "outputs": [
    {
     "data": {
      "text/plain": [
       "(([31.006276680300 +/- 3.49e-13])*x^3 + ([-49.348022005447 +/- 4.07e-13])*x^2 + ([25.1327412287183 +/- 5.92e-14])*x - 4.00000000000000,\n",
       " ([31.006276680300 +/- 3.49e-13])*x^3 + ([-78.956835208715 +/- 4.25e-13])*x^2 + ([65.973445725386 +/- 6.06e-13])*x - 18.0000000000000)"
      ]
     },
     "execution_count": 35,
     "metadata": {},
     "output_type": "execute_result"
    }
   ],
   "source": [
    "P.<x> = C[]\n",
    "p, q = (x-1)*(x-2)**2, (x-2)*(x-3)**2\n",
    "a = C(pi)\n",
    "p, q = p(x*a), q(x*a)\n",
    "p, q"
   ]
  },
  {
   "cell_type": "code",
   "execution_count": 37,
   "metadata": {},
   "outputs": [
    {
     "data": {
      "text/plain": [
       "(([1.000000000 +/- 1.42e-11])*x + [-0.63661977237 +/- 8.92e-12],\n",
       " [0.63661977236758 +/- 2.30e-15])"
      ]
     },
     "execution_count": 37,
     "metadata": {},
     "output_type": "execute_result"
    }
   ],
   "source": [
    "d, u, v = xgcd(p, q); d.monic(), 2/a"
   ]
  },
  {
   "cell_type": "code",
   "execution_count": null,
   "metadata": {},
   "outputs": [],
   "source": []
  },
  {
   "cell_type": "code",
   "execution_count": null,
   "metadata": {},
   "outputs": [],
   "source": []
  }
 ],
 "metadata": {
  "kernelspec": {
   "display_name": "SageMath 9.3.rc0",
   "language": "sage",
   "name": "sagemath"
  },
  "language_info": {
   "codemirror_mode": {
    "name": "ipython",
    "version": 3
   },
   "file_extension": ".py",
   "mimetype": "text/x-python",
   "name": "python",
   "nbconvert_exporter": "python",
   "pygments_lexer": "ipython3",
   "version": "3.8.5"
  }
 },
 "nbformat": 4,
 "nbformat_minor": 4
}
