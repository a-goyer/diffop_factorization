{
 "cells": [
  {
   "cell_type": "code",
   "execution_count": 1,
   "metadata": {},
   "outputs": [],
   "source": [
    "from diffop_factorization import InvSub"
   ]
  },
  {
   "cell_type": "markdown",
   "metadata": {},
   "source": [
    "## Generic examples"
   ]
  },
  {
   "cell_type": "code",
   "execution_count": 2,
   "metadata": {},
   "outputs": [
    {
     "data": {
      "text/plain": [
       "([([1.000000 +/- 1.73e-7] + [+/- 1.73e-7]*I, [0.895570 +/- 5.16e-7] + [1.324287 +/- 5.74e-7]*I, [-0.832800 +/- 5.42e-7] + [0.379338 +/- 3.33e-7]*I)],\n",
       " None)"
      ]
     },
     "execution_count": 2,
     "metadata": {},
     "output_type": "execute_result"
    }
   ],
   "source": [
    "mat1 = MatrixSpace(CC, 3).random_element().change_ring(CBF)\n",
    "mat2 = MatrixSpace(CC, 3).random_element().change_ring(CBF)\n",
    "\n",
    "(InvSub([mat1]), InvSub([mat1, mat2]))"
   ]
  },
  {
   "cell_type": "markdown",
   "metadata": {},
   "source": [
    "## Two matrices with a commun eigenvector"
   ]
  },
  {
   "cell_type": "code",
   "execution_count": 3,
   "metadata": {},
   "outputs": [
    {
     "data": {
      "text/plain": [
       "[([-0.237510655694894 +/- 4.21e-16] + [0.155856535417258 +/- 4.74e-16]*I, [0.023976475679145 +/- 5.27e-16] + [-0.218089583640285 +/- 4.65e-16]*I, [1.000000000000000 +/- 7.61e-16] + [+/- 7.61e-16]*I)]"
      ]
     },
     "execution_count": 3,
     "metadata": {},
     "output_type": "execute_result"
    }
   ],
   "source": [
    "C = ComplexBallField(100)\n",
    "mat1 = MatrixSpace(CC, 3).random_element().change_ring(C)\n",
    "mat2 = MatrixSpace(CC, 3).random_element().change_ring(C)\n",
    "mat1[1:3,0] , mat2[1:3,0] = MatrixSpace(C, 2, 1).zero(), MatrixSpace(C, 2, 1).zero()\n",
    "ran = MatrixSpace(CC, 3).random_element().change_ring(C)\n",
    "mat1, mat2 = ~ran * mat1 * ran, ~ran * mat2 * ran\n",
    "\n",
    "V = InvSub([mat1, mat2]); V"
   ]
  },
  {
   "cell_type": "code",
   "execution_count": 4,
   "metadata": {},
   "outputs": [
    {
     "data": {
      "text/plain": [
       "(([1.0000000000000 +/- 4.47e-15] + [+/- 4.47e-15]*I, [-0.49174833943997 +/- 5.37e-15] + [0.59554124316715 +/- 7.16e-15]*I, [-2.9430370329053 +/- 1.86e-14] + [-1.9312462180330 +/- 2.65e-14]*I),\n",
       " ([1.000000000000 +/- 1.34e-14] + [+/- 1.34e-14]*I, [-0.4917483394400 +/- 4.40e-14] + [0.5955412431671 +/- 6.22e-14]*I, [-2.9430370329053 +/- 5.14e-14] + [-1.9312462180330 +/- 5.93e-14]*I),\n",
       " ([1.000000000000 +/- 1.08e-14] + [+/- 1.08e-14]*I, [-0.4917483394400 +/- 3.62e-14] + [0.5955412431671 +/- 5.45e-14]*I, [-2.9430370329053 +/- 3.80e-14] + [-1.9312462180330 +/- 4.59e-14]*I))"
      ]
     },
     "execution_count": 4,
     "metadata": {},
     "output_type": "execute_result"
    }
   ],
   "source": [
    "v = V[0]\n",
    "v1, v2 = mat1*v, mat2*v\n",
    "v/v[0], v1/v1[0], v2/v2[0]"
   ]
  },
  {
   "cell_type": "markdown",
   "metadata": {},
   "source": [
    "## Matrices with a prescribed dimension of invariant subspace"
   ]
  },
  {
   "cell_type": "code",
   "execution_count": 5,
   "metadata": {},
   "outputs": [
    {
     "name": "stdout",
     "output_type": "stream",
     "text": [
      "CPU times: user 10.1 s, sys: 0 ns, total: 10.1 s\n",
      "Wall time: 10.1 s\n"
     ]
    },
    {
     "data": {
      "text/plain": [
       "True"
      ]
     },
     "execution_count": 5,
     "metadata": {},
     "output_type": "execute_result"
    }
   ],
   "source": [
    "def test (td, pd, prec, N) :\n",
    "    \n",
    "    \"\"\" td = total dimension,\n",
    "        pd = prescribed dimension,\n",
    "        prec = precision,\n",
    "        N = number of matrices \"\"\"\n",
    "\n",
    "    C = ComplexBallField(prec)\n",
    "    \n",
    "    Mats = []\n",
    "    for cpt in range(N):\n",
    "        mat = MatrixSpace(CC, td).random_element().change_ring(C)\n",
    "        mat[pd:,:pd] = MatrixSpace(C, td-pd, pd).zero()\n",
    "        Mats.append(mat)\n",
    "    \n",
    "    ran = MatrixSpace(CC, td).random_element().change_ring(C)\n",
    "    for j, mat in enumerate(Mats):\n",
    "        Mats[j] = ~ran * mat * ran\n",
    "    \n",
    "    V = InvSub(Mats)\n",
    "    if V is None:\n",
    "        print('cc')\n",
    "    return pd == len(V)\n",
    "\n",
    "dim_max = 20\n",
    "%time all(test(dim, dim//3, 1000, 5) for dim in [4,6..dim_max]) # 10sec for dim_max = 20"
   ]
  },
  {
   "cell_type": "markdown",
   "metadata": {},
   "source": [
    "## Tricky case of MeatAxe algorithm"
   ]
  },
  {
   "cell_type": "raw",
   "metadata": {},
   "source": [
    "                      [ A | * | * ]\n",
    "                       --- --- ---\n",
    "triangular by blocs : [ 0 | A | * ]   with generic A and at least one nonzero * \n",
    "                       --- --- ---\n",
    "                      [ 0 | 0 | A ]"
   ]
  },
  {
   "cell_type": "code",
   "execution_count": 6,
   "metadata": {},
   "outputs": [
    {
     "data": {
      "text/plain": [
       "3"
      ]
     },
     "execution_count": 6,
     "metadata": {},
     "output_type": "execute_result"
    }
   ],
   "source": [
    "bN = 2         # number of blocs\n",
    "bdim = 3       # dimension of blocs\n",
    "N = bdim**2    # number of matrices\n",
    "dim = bdim*bN  # total dimension\n",
    "prec = 500\n",
    "C = ComplexBallField(prec)\n",
    "\n",
    "Mats = []\n",
    "for cpt in range(N):\n",
    "    A = MatrixSpace(CC, bdim).random_element().change_ring(C)\n",
    "    mat = block_matrix(C, [[A.parent().zero()]*i+[A]+[A.parent().random_element()\\\n",
    "                                                      for j in range(bN-i-1)] for i in range(bN)])\n",
    "    Mats.append(mat)\n",
    "\n",
    "ran = MatrixSpace(CC, dim).random_element().change_ring(C)\n",
    "Mats = [~ran * mat * ran for mat in Mats]\n",
    "\n",
    "V = InvSub(Mats)\n",
    "len(V)"
   ]
  },
  {
   "cell_type": "markdown",
   "metadata": {},
   "source": [
    "## When a linear combination is not enough"
   ]
  },
  {
   "cell_type": "code",
   "execution_count": 7,
   "metadata": {},
   "outputs": [
    {
     "name": "stdout",
     "output_type": "stream",
     "text": [
      "The partition is currently:  [3]\n",
      "Lines checked\n",
      "Need to check nolines\n",
      "Check in a subspace of dimension 3\n",
      "Need to compute a basis of the algebra\n"
     ]
    },
    {
     "data": {
      "text/plain": [
       "True"
      ]
     },
     "execution_count": 7,
     "metadata": {},
     "output_type": "execute_result"
    }
   ],
   "source": [
    "prec = 100\n",
    "C = ComplexBallField(prec)\n",
    "\n",
    "mat1 = matrix(C, [[0,1,0],[0,0,1],[0,0,0]])\n",
    "mat2 = matrix(C, [[0,0,0],[1,0,0],[0,-1,0]])\n",
    "ran = MatrixSpace(CC, 3).random_element().change_ring(C)\n",
    "mat1, mat2 = ~ran * mat1 * ran, ~ran * mat2 * ran\n",
    "\n",
    "InvSub([mat1, mat2], verbose=True) is None"
   ]
  },
  {
   "cell_type": "code",
   "execution_count": null,
   "metadata": {},
   "outputs": [],
   "source": []
  }
 ],
 "metadata": {
  "kernelspec": {
   "display_name": "SageMath 9.3.rc0",
   "language": "sage",
   "name": "sagemath"
  },
  "language_info": {
   "codemirror_mode": {
    "name": "ipython",
    "version": 3
   },
   "file_extension": ".py",
   "mimetype": "text/x-python",
   "name": "python",
   "nbconvert_exporter": "python",
   "pygments_lexer": "ipython3",
   "version": "3.8.5"
  }
 },
 "nbformat": 4,
 "nbformat_minor": 4
}
