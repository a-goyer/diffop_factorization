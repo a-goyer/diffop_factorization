{
 "cells": [
  {
   "cell_type": "code",
   "execution_count": 1,
   "metadata": {},
   "outputs": [],
   "source": [
    "from diffop_factorization.invariant_subspace import Splitting"
   ]
  },
  {
   "cell_type": "markdown",
   "metadata": {},
   "source": [
    "## Case 0.a"
   ]
  },
  {
   "cell_type": "code",
   "execution_count": 20,
   "metadata": {},
   "outputs": [
    {
     "name": "stdout",
     "output_type": "stream",
     "text": [
      "[  [0.2399688 +/- 2.21e-8] + [0.19849311 +/- 6.45e-9]*I    [0.2169779 +/- 3.97e-8] + [0.4633281 +/- 4.62e-8]*I]\n",
      "[[0.36657119 +/- 7.22e-9] + [-0.30700804 +/- 7.19e-9]*I  [0.7600312 +/- 2.38e-8] + [-0.19849311 +/- 8.11e-9]*I]\n",
      "[2]\n",
      "[1, 1]\n"
     ]
    }
   ],
   "source": [
    "C = ComplexBallField(30)\n",
    "mat = matrix(C,[[0,0],[0,1]])\n",
    "ran = MatrixSpace(CC, 2).random_element().change_ring(C)\n",
    "mat = ~ran * mat * ran\n",
    "print(mat)\n",
    "split = Splitting([mat])\n",
    "print(split.partition)\n",
    "split.refine(mat)\n",
    "print(split.partition)"
   ]
  },
  {
   "cell_type": "code",
   "execution_count": 21,
   "metadata": {},
   "outputs": [
    {
     "data": {
      "text/plain": [
       "[       [+/- 8.75e-6] + [+/- 8.75e-6]*I        [+/- 8.89e-6] + [+/- 8.89e-6]*I]\n",
       "[       [+/- 5.26e-6] + [+/- 5.26e-6]*I [1.0000 +/- 6.63e-6] + [+/- 6.62e-6]*I]"
      ]
     },
     "execution_count": 21,
     "metadata": {},
     "output_type": "execute_result"
    }
   ],
   "source": [
    "split.matrices[0]"
   ]
  },
  {
   "cell_type": "code",
   "execution_count": 22,
   "metadata": {},
   "outputs": [
    {
     "data": {
      "text/plain": [
       "[ [0.2400 +/- 5.60e-5] + [0.1985 +/- 3.17e-5]*I  [0.2170 +/- 4.80e-5] + [0.4633 +/- 5.40e-5]*I]\n",
       "[[0.3666 +/- 5.20e-5] + [-0.3070 +/- 3.12e-5]*I [0.7600 +/- 5.49e-5] + [-0.1985 +/- 3.06e-5]*I]"
      ]
     },
     "execution_count": 22,
     "metadata": {},
     "output_type": "execute_result"
    }
   ],
   "source": [
    "split.basis * split.matrices[0] * ~split.basis"
   ]
  },
  {
   "cell_type": "markdown",
   "metadata": {},
   "source": [
    "## Case 0.b"
   ]
  },
  {
   "cell_type": "code",
   "execution_count": 23,
   "metadata": {},
   "outputs": [
    {
     "data": {
      "text/plain": [
       "[1, 2]"
      ]
     },
     "execution_count": 23,
     "metadata": {},
     "output_type": "execute_result"
    }
   ],
   "source": [
    "C = ComplexBallField()\n",
    "mat1 = matrix(C,[[0,0,0],[0,1,0],[0,0,1]])\n",
    "mat2 = matrix(C,[[0,0,0],[0,0,0],[0,0,1]])\n",
    "ran = MatrixSpace(CC, 3).random_element().change_ring(C)\n",
    "mat1, mat2 = ~ran * mat1 * ran, ~ran * mat2 * ran\n",
    "\n",
    "split = Splitting([mat1, mat2])\n",
    "split.refine(mat1)\n",
    "split.partition"
   ]
  },
  {
   "cell_type": "code",
   "execution_count": 24,
   "metadata": {},
   "outputs": [
    {
     "data": {
      "text/plain": [
       "[2, 1]"
      ]
     },
     "execution_count": 24,
     "metadata": {},
     "output_type": "execute_result"
    }
   ],
   "source": [
    "split = Splitting([mat1, mat2])\n",
    "split.refine(mat2)\n",
    "split.partition"
   ]
  },
  {
   "cell_type": "code",
   "execution_count": 25,
   "metadata": {},
   "outputs": [
    {
     "data": {
      "text/plain": [
       "[1, 1, 1]"
      ]
     },
     "execution_count": 25,
     "metadata": {},
     "output_type": "execute_result"
    }
   ],
   "source": [
    "split = Splitting([mat1, mat2])\n",
    "split.refine(mat1)\n",
    "split.refine(mat2)\n",
    "split.partition"
   ]
  },
  {
   "cell_type": "code",
   "execution_count": 26,
   "metadata": {},
   "outputs": [
    {
     "data": {
      "text/plain": [
       "[1, 1, 1]"
      ]
     },
     "execution_count": 26,
     "metadata": {},
     "output_type": "execute_result"
    }
   ],
   "source": [
    "split = Splitting([mat1, mat2])\n",
    "split.refine(mat1 + mat2)\n",
    "split.partition"
   ]
  },
  {
   "cell_type": "markdown",
   "metadata": {},
   "source": [
    "## Case 1"
   ]
  },
  {
   "cell_type": "code",
   "execution_count": 27,
   "metadata": {},
   "outputs": [
    {
     "data": {
      "text/plain": [
       "[2]"
      ]
     },
     "execution_count": 27,
     "metadata": {},
     "output_type": "execute_result"
    }
   ],
   "source": [
    "C = ComplexBallField()\n",
    "mat1, mat2 = matrix(C,[[0,1],[0,0]]), matrix(C,[[0,0],[1,0]])\n",
    "ran = MatrixSpace(CC, 2).random_element().change_ring(C)\n",
    "mat1, mat2 = ~ran * mat1 * ran, ~ran * mat2 * ran\n",
    "\n",
    "split = Splitting([mat1, mat2])\n",
    "split.refine(mat1)\n",
    "split.refine(mat2)\n",
    "split.partition"
   ]
  },
  {
   "cell_type": "code",
   "execution_count": 28,
   "metadata": {},
   "outputs": [
    {
     "data": {
      "text/plain": [
       "[1, 1]"
      ]
     },
     "execution_count": 28,
     "metadata": {},
     "output_type": "execute_result"
    }
   ],
   "source": [
    "split.refine(mat1 + mat2)\n",
    "split.partition"
   ]
  },
  {
   "cell_type": "markdown",
   "metadata": {},
   "source": [
    "## Case 2.a"
   ]
  },
  {
   "cell_type": "code",
   "execution_count": null,
   "metadata": {},
   "outputs": [],
   "source": []
  },
  {
   "cell_type": "code",
   "execution_count": null,
   "metadata": {},
   "outputs": [],
   "source": []
  },
  {
   "cell_type": "code",
   "execution_count": null,
   "metadata": {},
   "outputs": [],
   "source": []
  },
  {
   "cell_type": "code",
   "execution_count": null,
   "metadata": {},
   "outputs": [],
   "source": []
  }
 ],
 "metadata": {
  "kernelspec": {
   "display_name": "SageMath 9.3.rc0",
   "language": "sage",
   "name": "sagemath"
  },
  "language_info": {
   "codemirror_mode": {
    "name": "ipython",
    "version": 3
   },
   "file_extension": ".py",
   "mimetype": "text/x-python",
   "name": "python",
   "nbconvert_exporter": "python",
   "pygments_lexer": "ipython3",
   "version": "3.8.5"
  }
 },
 "nbformat": 4,
 "nbformat_minor": 4
}
